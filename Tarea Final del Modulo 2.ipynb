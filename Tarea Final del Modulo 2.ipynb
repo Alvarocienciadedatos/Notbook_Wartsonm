{
    "cells": [
        {
            "cell_type": "markdown",
            "metadata": {
                "collapsed": true,
                "jupyter": {
                    "outputs_hidden": true
                }
            },
            "source": "# Mi cuaderno Jupyter sobre IBM watsonx.ai"
        },
        {
            "cell_type": "markdown",
            "metadata": {
                "msg_id": "5c0f4f46-1d30-45e6-9054-ec3cef0ceaef"
            },
            "source": "**Alvaro Rodriguez**\n"
        },
        {
            "cell_type": "markdown",
            "metadata": {},
            "source": "*Estoy interesado en la ciencia de datos porque me permite descubrir nuevas forma de ayudar avanzar en el  futuro*"
        },
        {
            "cell_type": "markdown",
            "metadata": {},
            "source": "### Conversi\u00f3n de Minutos a Horas"
        },
        {
            "cell_type": "code",
            "execution_count": 3,
            "metadata": {
                "msg_id": "6e097cd3-87e9-42fe-b177-8563950124fd"
            },
            "outputs": [
                {
                    "name": "stdout",
                    "output_type": "stream",
                    "text": "3.3333333333333335\n"
                }
            ],
            "source": "#Esto convertir\u00e1 200 minutos a horas\nres=200/60\nprint(res)"
        },
        {
            "cell_type": "markdown",
            "metadata": {
                "msg_id": "81fa8d58-be30-44e3-bc9a-9f8ce62f83b0"
            },
            "source": "\n### A continuaci\u00f3n, se presentan algunos ejemplos de evaluaci\u00f3n de expresiones aritm\u00e9ticas en Python.\n- **Suma:** `5 + 3 = 8`\n- **Resta:** `10 - 4 = 6`\n- **Multiplicaci\u00f3n:** `6 * 7 = 42`\n- **Divisi\u00f3n:** `20 / 4 = 5.0`\n- **Divisi\u00f3n entera:** `20 // 3 = 6`\n- **M\u00f3dulo:** `20 % 3 = 2`\n- **Potenciaci\u00f3n:** `2 ** 3 = 8`"
        },
        {
            "cell_type": "markdown",
            "metadata": {},
            "source": "Algunas de las bibliotecas com\u00fanmente utilizadas por los cient\u00edficos de datos incluyen:\n1. ggplot2\n2. Pandas\n3. caret\n4. Scipy "
        },
        {
            "cell_type": "markdown",
            "metadata": {},
            "source": "|**Herramientas de Cienccias de Datos**|\n|--------------------------------------|\n|Rstudio                               |\n|Google Colab                          | \n|Anaconda                              |\n|______________________________________|"
        },
        {
            "cell_type": "markdown",
            "metadata": {
                "msg_id": "c2906ca6-49d1-4909-83f8-ee3dd904b208"
            },
            "source": "#### Hiperv\u00ednculo\nPuedes visitar [Python.org](https://www.python.org) para m\u00e1s informaci\u00f3n sobre Python.\n\n#### Imagen\n![Python Logo](https://www.python.org/static/community_logos/python-logo-master-v3-TM.png)"
        }
    ],
    "metadata": {
        "kernelspec": {
            "display_name": "Python 3.11 with Spark",
            "language": "python3",
            "name": "python311"
        },
        "language_info": {
            "codemirror_mode": {
                "name": "ipython",
                "version": 3
            },
            "file_extension": ".py",
            "mimetype": "text/x-python",
            "name": "python",
            "nbconvert_exporter": "python",
            "pygments_lexer": "ipython3",
            "version": "3.11.9"
        }
    },
    "nbformat": 4,
    "nbformat_minor": 4
}